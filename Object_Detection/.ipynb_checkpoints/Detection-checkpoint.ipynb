{
 "cells": [
  {
   "cell_type": "markdown",
   "id": "9555386c",
   "metadata": {},
   "source": [
    "# Install the Python libraries\n"
   ]
  },
  {
   "cell_type": "code",
   "execution_count": null,
   "id": "a3e0bfb7",
   "metadata": {},
   "outputs": [],
   "source": [
    "#pip install opencv-python"
   ]
  },
  {
   "cell_type": "code",
   "execution_count": null,
   "id": "cc92ff35",
   "metadata": {},
   "outputs": [],
   "source": [
    "#pip install matplotlib"
   ]
  },
  {
   "cell_type": "code",
   "execution_count": null,
   "id": "edbab6a4",
   "metadata": {},
   "outputs": [],
   "source": [
    "#pip install numpy"
   ]
  },
  {
   "cell_type": "markdown",
   "id": "c3f59fdf",
   "metadata": {},
   "source": [
    "# Importing the libraries"
   ]
  },
  {
   "cell_type": "code",
   "execution_count": null,
   "id": "87e70c6b",
   "metadata": {},
   "outputs": [],
   "source": [
    "import cv2"
   ]
  },
  {
   "cell_type": "code",
   "execution_count": null,
   "id": "008b45f6",
   "metadata": {},
   "outputs": [],
   "source": [
    "import matplotlib.pyplot as plt"
   ]
  },
  {
   "cell_type": "code",
   "execution_count": null,
   "id": "529821a4",
   "metadata": {},
   "outputs": [],
   "source": [
    "import numpy as np"
   ]
  },
  {
   "cell_type": "code",
   "execution_count": null,
   "id": "55d9033b",
   "metadata": {},
   "outputs": [],
   "source": [
    "cfg_file = 'ssd_mobilenet_v3_large_coco_2020_01_14.pbtxt'"
   ]
  },
  {
   "cell_type": "code",
   "execution_count": null,
   "id": "9a69a596",
   "metadata": {},
   "outputs": [],
   "source": [
    "frozen_model = 'frozen_inference_graph.pb'"
   ]
  },
  {
   "cell_type": "code",
   "execution_count": null,
   "id": "687afa48",
   "metadata": {},
   "outputs": [],
   "source": [
    "model = cv2.dnn_DetectionModel(frozen_model,cfg_file)"
   ]
  },
  {
   "cell_type": "code",
   "execution_count": null,
   "id": "e9d810b9",
   "metadata": {},
   "outputs": [],
   "source": [
    "classLables = []\n",
    "file_name = 'label.txt'\n",
    "with open(file_name,'rt') as ftp:\n",
    "    classLables = ftp.read().rstrip('\\n').rsplit('\\n')\n",
    "    "
   ]
  },
  {
   "cell_type": "code",
   "execution_count": null,
   "id": "25119f67",
   "metadata": {},
   "outputs": [],
   "source": [
    "print(classLables)"
   ]
  },
  {
   "cell_type": "code",
   "execution_count": null,
   "id": "dcdc96c0",
   "metadata": {},
   "outputs": [],
   "source": [
    "a = classLables"
   ]
  },
  {
   "cell_type": "code",
   "execution_count": null,
   "id": "124d3a8c",
   "metadata": {},
   "outputs": [],
   "source": [
    "a[32]"
   ]
  },
  {
   "cell_type": "code",
   "execution_count": null,
   "id": "51f4ae20",
   "metadata": {},
   "outputs": [],
   "source": [
    "model.setInputSize(320,320)\n",
    "model.setInputScale(1.0/127.5)\n",
    "model.setInputMean((127.5,127.5,127.5))\n",
    "model.setInputSwapRB(True)"
   ]
  },
  {
   "cell_type": "markdown",
   "id": "be4d048d",
   "metadata": {},
   "source": [
    "# Read an Image"
   ]
  },
  {
   "cell_type": "code",
   "execution_count": null,
   "id": "0e90f4da",
   "metadata": {},
   "outputs": [],
   "source": [
    "img = cv2.imread('car-man.jpg')"
   ]
  },
  {
   "cell_type": "code",
   "execution_count": null,
   "id": "9749b215",
   "metadata": {},
   "outputs": [],
   "source": [
    "#img = cv2.imread('market.jpg')"
   ]
  },
  {
   "cell_type": "code",
   "execution_count": null,
   "id": "b90177a8",
   "metadata": {},
   "outputs": [],
   "source": [
    "plt.imshow(img)"
   ]
  },
  {
   "cell_type": "code",
   "execution_count": null,
   "id": "47f44dc8",
   "metadata": {},
   "outputs": [],
   "source": [
    "ClassIndex, confidence , bbox = model.detect(img,confThreshold=0.5)"
   ]
  },
  {
   "cell_type": "code",
   "execution_count": null,
   "id": "710a6b73",
   "metadata": {},
   "outputs": [],
   "source": [
    "#ClassIndex, confidence , bbox = model.detect(img1,confThreshold=0.5)"
   ]
  },
  {
   "cell_type": "code",
   "execution_count": null,
   "id": "295ed3d3",
   "metadata": {},
   "outputs": [],
   "source": [
    "print(ClassIndex)"
   ]
  },
  {
   "cell_type": "code",
   "execution_count": null,
   "id": "15e07f73",
   "metadata": {},
   "outputs": [],
   "source": [
    " print(confidence)"
   ]
  },
  {
   "cell_type": "code",
   "execution_count": null,
   "id": "0d0f8a0c",
   "metadata": {},
   "outputs": [],
   "source": [
    "print(bbox)"
   ]
  },
  {
   "cell_type": "code",
   "execution_count": null,
   "id": "4c245daa",
   "metadata": {},
   "outputs": [],
   "source": [
    "font_scale = 3\n",
    "font = cv2.FONT_HERSHEY_PLAIN\n",
    "for ClassInd, conf , boxes in zip(ClassIndex.flatten(), confidence.flatten(), bbox):\n",
    "    cv2.rectangle(img,boxes,(255, 100, 0), 2)\n",
    "    cv2.putText(img,classLables[ClassInd-1],(boxes[0]+10,boxes[1]+40), font, fontScale=font_scale,color=(0,255,0), thickness =3 )\n",
    "    cv2.putText(img,str(round(conf*100)),(boxes[0]+300,boxes[1]+40), font,fontScale=font_scale,color=(0,255,0), thickness =3 )"
   ]
  },
  {
   "cell_type": "code",
   "execution_count": null,
   "id": "167d2d5d",
   "metadata": {},
   "outputs": [],
   "source": [
    "plt.imshow(cv2.cvtColor(img, cv2.COLOR_BGR2RGB))"
   ]
  },
  {
   "cell_type": "code",
   "execution_count": null,
   "id": "a6bcaedb",
   "metadata": {},
   "outputs": [],
   "source": [
    "x= ClassIndex.tolist()"
   ]
  },
  {
   "cell_type": "code",
   "execution_count": null,
   "id": "c7991c35",
   "metadata": {},
   "outputs": [],
   "source": []
  },
  {
   "cell_type": "code",
   "execution_count": null,
   "id": "38c52ce8",
   "metadata": {},
   "outputs": [],
   "source": [
    "output = []\n",
    "for i in range(0,len(x)):\n",
    "    print(a[(int(x[i]-1))])"
   ]
  },
  {
   "cell_type": "markdown",
   "id": "1b5a0869",
   "metadata": {},
   "source": [
    "# Real Time Demo"
   ]
  },
  {
   "cell_type": "code",
   "execution_count": null,
   "id": "34d801ef",
   "metadata": {},
   "outputs": [],
   "source": [
    "cap = cv2.VideoCapture(1)\n",
    "\n",
    "cap.set(3,640)\n",
    "cap.set(4,480)\n",
    "\n",
    "if not cap.isOpened():\n",
    "    cap = cv2.VideoCapture(0)\n",
    "if not cap.isOpened():\n",
    "    raise IOError(\"cannot open the video\")\n",
    "\n",
    "font_scale = 3\n",
    "font = cv2.FONT_HERSHEY_PLAIN\n",
    "\n",
    "while True:\n",
    "    ret,frame = cap.read()\n",
    "    \n",
    "    ClassIndex, confidence , bbox = model.detect(frame,confThreshold=0.5)\n",
    "    \n",
    "    print(ClassIndex , confidence)\n",
    "    if (len(ClassIndex)!=0):\n",
    "        for ClassInd, conf , boxes in zip(ClassIndex.flatten(), confidence.flatten(), bbox):\n",
    "            if (ClassInd<=80):\n",
    "                cv2.rectangle(frame,boxes,(255, 100, 0), 2)\n",
    "                cv2.putText(frame,classLables[ClassInd-1],(boxes[0]+10,boxes[1]+40), font, fontScale=font_scale,color=(0,255,0), thickness =3 )\n",
    "                cv2.putText(frame,str(round(conf*100)),(boxes[0]+300,boxes[1]+40), font,fontScale=font_scale,color=(0,255,0), thickness =3 )\n",
    "      \n",
    "    cv2.imshow(\"Object Detection Model\",frame)\n",
    "    \n",
    "    \n",
    "    if cv2.waitKey(2) & 0xFF == ord('q'):\n",
    "        break\n",
    "        \n",
    "cap.release()\n",
    "cv2.destroyAllwindows()"
   ]
  },
  {
   "cell_type": "code",
   "execution_count": null,
   "id": "23207a62",
   "metadata": {},
   "outputs": [],
   "source": []
  }
 ],
 "metadata": {
  "kernelspec": {
   "display_name": "Python 3 (ipykernel)",
   "language": "python",
   "name": "python3"
  },
  "language_info": {
   "codemirror_mode": {
    "name": "ipython",
    "version": 3
   },
   "file_extension": ".py",
   "mimetype": "text/x-python",
   "name": "python",
   "nbconvert_exporter": "python",
   "pygments_lexer": "ipython3",
   "version": "3.9.7"
  }
 },
 "nbformat": 4,
 "nbformat_minor": 5
}
