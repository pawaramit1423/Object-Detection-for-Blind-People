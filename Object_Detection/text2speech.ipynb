{
 "cells": [
  {
   "cell_type": "code",
   "execution_count": 88,
   "id": "60cd74bf",
   "metadata": {},
   "outputs": [],
   "source": [
    "#pip install gTTS"
   ]
  },
  {
   "cell_type": "code",
   "execution_count": 89,
   "id": "0c5359a6",
   "metadata": {},
   "outputs": [],
   "source": [
    "from gtts import gTTS"
   ]
  },
  {
   "cell_type": "code",
   "execution_count": 90,
   "id": "32d21b2d",
   "metadata": {},
   "outputs": [],
   "source": [
    "import os"
   ]
  },
  {
   "cell_type": "code",
   "execution_count": 91,
   "id": "9a554070",
   "metadata": {},
   "outputs": [],
   "source": [
    "test = 'Hello world'\n",
    "str1 = \"There is\"\n",
    "str2 = \"present in picture\"\n",
    "str = str1+ \" \" +test+\" \"+str2\n",
    "\n",
    "language = 'en'"
   ]
  },
  {
   "cell_type": "code",
   "execution_count": 92,
   "id": "a81b69c1",
   "metadata": {},
   "outputs": [],
   "source": [
    "output = gTTS(text=str, lang=language, slow=True)"
   ]
  },
  {
   "cell_type": "code",
   "execution_count": 93,
   "id": "712ee610",
   "metadata": {},
   "outputs": [],
   "source": [
    "output.save(\"test.mp3\")"
   ]
  },
  {
   "cell_type": "code",
   "execution_count": 94,
   "id": "cf446d8f",
   "metadata": {},
   "outputs": [
    {
     "data": {
      "text/plain": [
       "0"
      ]
     },
     "execution_count": 94,
     "metadata": {},
     "output_type": "execute_result"
    }
   ],
   "source": [
    "os.system('start test.mp3')"
   ]
  },
  {
   "cell_type": "code",
   "execution_count": 95,
   "id": "1f8f1ec9",
   "metadata": {},
   "outputs": [
    {
     "data": {
      "text/plain": [
       "'test.mp3'"
      ]
     },
     "metadata": {},
     "output_type": "display_data"
    }
   ],
   "source": [
    "display(\"test.mp3\")"
   ]
  },
  {
   "cell_type": "code",
   "execution_count": 96,
   "id": "6f1d4287",
   "metadata": {},
   "outputs": [],
   "source": [
    "str1 = \"There is\"\n",
    "str2 = \"present in picture\""
   ]
  },
  {
   "cell_type": "code",
   "execution_count": 97,
   "id": "3ee66401",
   "metadata": {},
   "outputs": [],
   "source": [
    "str = str1+ \" \" +test+\" \"+str2"
   ]
  },
  {
   "cell_type": "code",
   "execution_count": 98,
   "id": "1fdea669",
   "metadata": {},
   "outputs": [
    {
     "name": "stdout",
     "output_type": "stream",
     "text": [
      "There is Hello world present in picture\n"
     ]
    }
   ],
   "source": [
    "print(str)"
   ]
  },
  {
   "cell_type": "code",
   "execution_count": null,
   "id": "f7105273",
   "metadata": {},
   "outputs": [],
   "source": []
  },
  {
   "cell_type": "code",
   "execution_count": null,
   "id": "cd099854",
   "metadata": {},
   "outputs": [],
   "source": []
  }
 ],
 "metadata": {
  "kernelspec": {
   "display_name": "Python 3 (ipykernel)",
   "language": "python",
   "name": "python3"
  },
  "language_info": {
   "codemirror_mode": {
    "name": "ipython",
    "version": 3
   },
   "file_extension": ".py",
   "mimetype": "text/x-python",
   "name": "python",
   "nbconvert_exporter": "python",
   "pygments_lexer": "ipython3",
   "version": "3.9.7"
  }
 },
 "nbformat": 4,
 "nbformat_minor": 5
}
